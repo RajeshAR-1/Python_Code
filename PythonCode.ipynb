{
 "cells": [
  {
   "cell_type": "markdown",
   "metadata": {},
   "source": [
    "<h1> Python Task </h2>"
   ]
  },
  {
   "cell_type": "code",
   "execution_count": 1,
   "metadata": {},
   "outputs": [
    {
     "data": {
      "text/html": [
       "\n",
       "    <div class=\"bk-root\">\n",
       "        <a href=\"https://bokeh.org\" target=\"_blank\" class=\"bk-logo bk-logo-small bk-logo-notebook\"></a>\n",
       "        <span id=\"1001\">Loading BokehJS ...</span>\n",
       "    </div>"
      ]
     },
     "metadata": {},
     "output_type": "display_data"
    },
    {
     "data": {
      "application/javascript": [
       "\n",
       "(function(root) {\n",
       "  function now() {\n",
       "    return new Date();\n",
       "  }\n",
       "\n",
       "  var force = true;\n",
       "\n",
       "  if (typeof root._bokeh_onload_callbacks === \"undefined\" || force === true) {\n",
       "    root._bokeh_onload_callbacks = [];\n",
       "    root._bokeh_is_loading = undefined;\n",
       "  }\n",
       "\n",
       "  var JS_MIME_TYPE = 'application/javascript';\n",
       "  var HTML_MIME_TYPE = 'text/html';\n",
       "  var EXEC_MIME_TYPE = 'application/vnd.bokehjs_exec.v0+json';\n",
       "  var CLASS_NAME = 'output_bokeh rendered_html';\n",
       "\n",
       "  /**\n",
       "   * Render data to the DOM node\n",
       "   */\n",
       "  function render(props, node) {\n",
       "    var script = document.createElement(\"script\");\n",
       "    node.appendChild(script);\n",
       "  }\n",
       "\n",
       "  /**\n",
       "   * Handle when an output is cleared or removed\n",
       "   */\n",
       "  function handleClearOutput(event, handle) {\n",
       "    var cell = handle.cell;\n",
       "\n",
       "    var id = cell.output_area._bokeh_element_id;\n",
       "    var server_id = cell.output_area._bokeh_server_id;\n",
       "    // Clean up Bokeh references\n",
       "    if (id != null && id in Bokeh.index) {\n",
       "      Bokeh.index[id].model.document.clear();\n",
       "      delete Bokeh.index[id];\n",
       "    }\n",
       "\n",
       "    if (server_id !== undefined) {\n",
       "      // Clean up Bokeh references\n",
       "      var cmd = \"from bokeh.io.state import curstate; print(curstate().uuid_to_server['\" + server_id + \"'].get_sessions()[0].document.roots[0]._id)\";\n",
       "      cell.notebook.kernel.execute(cmd, {\n",
       "        iopub: {\n",
       "          output: function(msg) {\n",
       "            var id = msg.content.text.trim();\n",
       "            if (id in Bokeh.index) {\n",
       "              Bokeh.index[id].model.document.clear();\n",
       "              delete Bokeh.index[id];\n",
       "            }\n",
       "          }\n",
       "        }\n",
       "      });\n",
       "      // Destroy server and session\n",
       "      var cmd = \"import bokeh.io.notebook as ion; ion.destroy_server('\" + server_id + \"')\";\n",
       "      cell.notebook.kernel.execute(cmd);\n",
       "    }\n",
       "  }\n",
       "\n",
       "  /**\n",
       "   * Handle when a new output is added\n",
       "   */\n",
       "  function handleAddOutput(event, handle) {\n",
       "    var output_area = handle.output_area;\n",
       "    var output = handle.output;\n",
       "\n",
       "    // limit handleAddOutput to display_data with EXEC_MIME_TYPE content only\n",
       "    if ((output.output_type != \"display_data\") || (!output.data.hasOwnProperty(EXEC_MIME_TYPE))) {\n",
       "      return\n",
       "    }\n",
       "\n",
       "    var toinsert = output_area.element.find(\".\" + CLASS_NAME.split(' ')[0]);\n",
       "\n",
       "    if (output.metadata[EXEC_MIME_TYPE][\"id\"] !== undefined) {\n",
       "      toinsert[toinsert.length - 1].firstChild.textContent = output.data[JS_MIME_TYPE];\n",
       "      // store reference to embed id on output_area\n",
       "      output_area._bokeh_element_id = output.metadata[EXEC_MIME_TYPE][\"id\"];\n",
       "    }\n",
       "    if (output.metadata[EXEC_MIME_TYPE][\"server_id\"] !== undefined) {\n",
       "      var bk_div = document.createElement(\"div\");\n",
       "      bk_div.innerHTML = output.data[HTML_MIME_TYPE];\n",
       "      var script_attrs = bk_div.children[0].attributes;\n",
       "      for (var i = 0; i < script_attrs.length; i++) {\n",
       "        toinsert[toinsert.length - 1].firstChild.setAttribute(script_attrs[i].name, script_attrs[i].value);\n",
       "        toinsert[toinsert.length - 1].firstChild.textContent = bk_div.children[0].textContent\n",
       "      }\n",
       "      // store reference to server id on output_area\n",
       "      output_area._bokeh_server_id = output.metadata[EXEC_MIME_TYPE][\"server_id\"];\n",
       "    }\n",
       "  }\n",
       "\n",
       "  function register_renderer(events, OutputArea) {\n",
       "\n",
       "    function append_mime(data, metadata, element) {\n",
       "      // create a DOM node to render to\n",
       "      var toinsert = this.create_output_subarea(\n",
       "        metadata,\n",
       "        CLASS_NAME,\n",
       "        EXEC_MIME_TYPE\n",
       "      );\n",
       "      this.keyboard_manager.register_events(toinsert);\n",
       "      // Render to node\n",
       "      var props = {data: data, metadata: metadata[EXEC_MIME_TYPE]};\n",
       "      render(props, toinsert[toinsert.length - 1]);\n",
       "      element.append(toinsert);\n",
       "      return toinsert\n",
       "    }\n",
       "\n",
       "    /* Handle when an output is cleared or removed */\n",
       "    events.on('clear_output.CodeCell', handleClearOutput);\n",
       "    events.on('delete.Cell', handleClearOutput);\n",
       "\n",
       "    /* Handle when a new output is added */\n",
       "    events.on('output_added.OutputArea', handleAddOutput);\n",
       "\n",
       "    /**\n",
       "     * Register the mime type and append_mime function with output_area\n",
       "     */\n",
       "    OutputArea.prototype.register_mime_type(EXEC_MIME_TYPE, append_mime, {\n",
       "      /* Is output safe? */\n",
       "      safe: true,\n",
       "      /* Index of renderer in `output_area.display_order` */\n",
       "      index: 0\n",
       "    });\n",
       "  }\n",
       "\n",
       "  // register the mime type if in Jupyter Notebook environment and previously unregistered\n",
       "  if (root.Jupyter !== undefined) {\n",
       "    var events = require('base/js/events');\n",
       "    var OutputArea = require('notebook/js/outputarea').OutputArea;\n",
       "\n",
       "    if (OutputArea.prototype.mime_types().indexOf(EXEC_MIME_TYPE) == -1) {\n",
       "      register_renderer(events, OutputArea);\n",
       "    }\n",
       "  }\n",
       "\n",
       "  \n",
       "  if (typeof (root._bokeh_timeout) === \"undefined\" || force === true) {\n",
       "    root._bokeh_timeout = Date.now() + 5000;\n",
       "    root._bokeh_failed_load = false;\n",
       "  }\n",
       "\n",
       "  var NB_LOAD_WARNING = {'data': {'text/html':\n",
       "     \"<div style='background-color: #fdd'>\\n\"+\n",
       "     \"<p>\\n\"+\n",
       "     \"BokehJS does not appear to have successfully loaded. If loading BokehJS from CDN, this \\n\"+\n",
       "     \"may be due to a slow or bad network connection. Possible fixes:\\n\"+\n",
       "     \"</p>\\n\"+\n",
       "     \"<ul>\\n\"+\n",
       "     \"<li>re-rerun `output_notebook()` to attempt to load from CDN again, or</li>\\n\"+\n",
       "     \"<li>use INLINE resources instead, as so:</li>\\n\"+\n",
       "     \"</ul>\\n\"+\n",
       "     \"<code>\\n\"+\n",
       "     \"from bokeh.resources import INLINE\\n\"+\n",
       "     \"output_notebook(resources=INLINE)\\n\"+\n",
       "     \"</code>\\n\"+\n",
       "     \"</div>\"}};\n",
       "\n",
       "  function display_loaded() {\n",
       "    var el = document.getElementById(\"1001\");\n",
       "    if (el != null) {\n",
       "      el.textContent = \"BokehJS is loading...\";\n",
       "    }\n",
       "    if (root.Bokeh !== undefined) {\n",
       "      if (el != null) {\n",
       "        el.textContent = \"BokehJS \" + root.Bokeh.version + \" successfully loaded.\";\n",
       "      }\n",
       "    } else if (Date.now() < root._bokeh_timeout) {\n",
       "      setTimeout(display_loaded, 100)\n",
       "    }\n",
       "  }\n",
       "\n",
       "\n",
       "  function run_callbacks() {\n",
       "    try {\n",
       "      root._bokeh_onload_callbacks.forEach(function(callback) {\n",
       "        if (callback != null)\n",
       "          callback();\n",
       "      });\n",
       "    } finally {\n",
       "      delete root._bokeh_onload_callbacks\n",
       "    }\n",
       "    console.debug(\"Bokeh: all callbacks have finished\");\n",
       "  }\n",
       "\n",
       "  function load_libs(css_urls, js_urls, callback) {\n",
       "    if (css_urls == null) css_urls = [];\n",
       "    if (js_urls == null) js_urls = [];\n",
       "\n",
       "    root._bokeh_onload_callbacks.push(callback);\n",
       "    if (root._bokeh_is_loading > 0) {\n",
       "      console.debug(\"Bokeh: BokehJS is being loaded, scheduling callback at\", now());\n",
       "      return null;\n",
       "    }\n",
       "    if (js_urls == null || js_urls.length === 0) {\n",
       "      run_callbacks();\n",
       "      return null;\n",
       "    }\n",
       "    console.debug(\"Bokeh: BokehJS not loaded, scheduling load and callback at\", now());\n",
       "    root._bokeh_is_loading = css_urls.length + js_urls.length;\n",
       "\n",
       "    function on_load() {\n",
       "      root._bokeh_is_loading--;\n",
       "      if (root._bokeh_is_loading === 0) {\n",
       "        console.debug(\"Bokeh: all BokehJS libraries/stylesheets loaded\");\n",
       "        run_callbacks()\n",
       "      }\n",
       "    }\n",
       "\n",
       "    function on_error() {\n",
       "      console.error(\"failed to load \" + url);\n",
       "    }\n",
       "\n",
       "    for (var i = 0; i < css_urls.length; i++) {\n",
       "      var url = css_urls[i];\n",
       "      const element = document.createElement(\"link\");\n",
       "      element.onload = on_load;\n",
       "      element.onerror = on_error;\n",
       "      element.rel = \"stylesheet\";\n",
       "      element.type = \"text/css\";\n",
       "      element.href = url;\n",
       "      console.debug(\"Bokeh: injecting link tag for BokehJS stylesheet: \", url);\n",
       "      document.body.appendChild(element);\n",
       "    }\n",
       "\n",
       "    const hashes = {\"https://cdn.bokeh.org/bokeh/release/bokeh-2.2.3.min.js\": \"T2yuo9Oe71Cz/I4X9Ac5+gpEa5a8PpJCDlqKYO0CfAuEszu1JrXLl8YugMqYe3sM\", \"https://cdn.bokeh.org/bokeh/release/bokeh-widgets-2.2.3.min.js\": \"98GDGJ0kOMCUMUePhksaQ/GYgB3+NH9h996V88sh3aOiUNX3N+fLXAtry6xctSZ6\", \"https://cdn.bokeh.org/bokeh/release/bokeh-tables-2.2.3.min.js\": \"89bArO+nlbP3sgakeHjCo1JYxYR5wufVgA3IbUvDY+K7w4zyxJqssu7wVnfeKCq8\"};\n",
       "\n",
       "    for (var i = 0; i < js_urls.length; i++) {\n",
       "      var url = js_urls[i];\n",
       "      var element = document.createElement('script');\n",
       "      element.onload = on_load;\n",
       "      element.onerror = on_error;\n",
       "      element.async = false;\n",
       "      element.src = url;\n",
       "      if (url in hashes) {\n",
       "        element.crossOrigin = \"anonymous\";\n",
       "        element.integrity = \"sha384-\" + hashes[url];\n",
       "      }\n",
       "      console.debug(\"Bokeh: injecting script tag for BokehJS library: \", url);\n",
       "      document.head.appendChild(element);\n",
       "    }\n",
       "  };\n",
       "\n",
       "  function inject_raw_css(css) {\n",
       "    const element = document.createElement(\"style\");\n",
       "    element.appendChild(document.createTextNode(css));\n",
       "    document.body.appendChild(element);\n",
       "  }\n",
       "\n",
       "  \n",
       "  var js_urls = [\"https://cdn.bokeh.org/bokeh/release/bokeh-2.2.3.min.js\", \"https://cdn.bokeh.org/bokeh/release/bokeh-widgets-2.2.3.min.js\", \"https://cdn.bokeh.org/bokeh/release/bokeh-tables-2.2.3.min.js\"];\n",
       "  var css_urls = [];\n",
       "  \n",
       "\n",
       "  var inline_js = [\n",
       "    function(Bokeh) {\n",
       "      Bokeh.set_log_level(\"info\");\n",
       "    },\n",
       "    function(Bokeh) {\n",
       "    \n",
       "    \n",
       "    }\n",
       "  ];\n",
       "\n",
       "  function run_inline_js() {\n",
       "    \n",
       "    if (root.Bokeh !== undefined || force === true) {\n",
       "      \n",
       "    for (var i = 0; i < inline_js.length; i++) {\n",
       "      inline_js[i].call(root, root.Bokeh);\n",
       "    }\n",
       "    if (force === true) {\n",
       "        display_loaded();\n",
       "      }} else if (Date.now() < root._bokeh_timeout) {\n",
       "      setTimeout(run_inline_js, 100);\n",
       "    } else if (!root._bokeh_failed_load) {\n",
       "      console.log(\"Bokeh: BokehJS failed to load within specified timeout.\");\n",
       "      root._bokeh_failed_load = true;\n",
       "    } else if (force !== true) {\n",
       "      var cell = $(document.getElementById(\"1001\")).parents('.cell').data().cell;\n",
       "      cell.output_area.append_execute_result(NB_LOAD_WARNING)\n",
       "    }\n",
       "\n",
       "  }\n",
       "\n",
       "  if (root._bokeh_is_loading === 0) {\n",
       "    console.debug(\"Bokeh: BokehJS loaded, going straight to plotting\");\n",
       "    run_inline_js();\n",
       "  } else {\n",
       "    load_libs(css_urls, js_urls, function() {\n",
       "      console.debug(\"Bokeh: BokehJS plotting callback run at\", now());\n",
       "      run_inline_js();\n",
       "    });\n",
       "  }\n",
       "}(window));"
      ],
      "application/vnd.bokehjs_load.v0+json": "\n(function(root) {\n  function now() {\n    return new Date();\n  }\n\n  var force = true;\n\n  if (typeof root._bokeh_onload_callbacks === \"undefined\" || force === true) {\n    root._bokeh_onload_callbacks = [];\n    root._bokeh_is_loading = undefined;\n  }\n\n  \n\n  \n  if (typeof (root._bokeh_timeout) === \"undefined\" || force === true) {\n    root._bokeh_timeout = Date.now() + 5000;\n    root._bokeh_failed_load = false;\n  }\n\n  var NB_LOAD_WARNING = {'data': {'text/html':\n     \"<div style='background-color: #fdd'>\\n\"+\n     \"<p>\\n\"+\n     \"BokehJS does not appear to have successfully loaded. If loading BokehJS from CDN, this \\n\"+\n     \"may be due to a slow or bad network connection. Possible fixes:\\n\"+\n     \"</p>\\n\"+\n     \"<ul>\\n\"+\n     \"<li>re-rerun `output_notebook()` to attempt to load from CDN again, or</li>\\n\"+\n     \"<li>use INLINE resources instead, as so:</li>\\n\"+\n     \"</ul>\\n\"+\n     \"<code>\\n\"+\n     \"from bokeh.resources import INLINE\\n\"+\n     \"output_notebook(resources=INLINE)\\n\"+\n     \"</code>\\n\"+\n     \"</div>\"}};\n\n  function display_loaded() {\n    var el = document.getElementById(\"1001\");\n    if (el != null) {\n      el.textContent = \"BokehJS is loading...\";\n    }\n    if (root.Bokeh !== undefined) {\n      if (el != null) {\n        el.textContent = \"BokehJS \" + root.Bokeh.version + \" successfully loaded.\";\n      }\n    } else if (Date.now() < root._bokeh_timeout) {\n      setTimeout(display_loaded, 100)\n    }\n  }\n\n\n  function run_callbacks() {\n    try {\n      root._bokeh_onload_callbacks.forEach(function(callback) {\n        if (callback != null)\n          callback();\n      });\n    } finally {\n      delete root._bokeh_onload_callbacks\n    }\n    console.debug(\"Bokeh: all callbacks have finished\");\n  }\n\n  function load_libs(css_urls, js_urls, callback) {\n    if (css_urls == null) css_urls = [];\n    if (js_urls == null) js_urls = [];\n\n    root._bokeh_onload_callbacks.push(callback);\n    if (root._bokeh_is_loading > 0) {\n      console.debug(\"Bokeh: BokehJS is being loaded, scheduling callback at\", now());\n      return null;\n    }\n    if (js_urls == null || js_urls.length === 0) {\n      run_callbacks();\n      return null;\n    }\n    console.debug(\"Bokeh: BokehJS not loaded, scheduling load and callback at\", now());\n    root._bokeh_is_loading = css_urls.length + js_urls.length;\n\n    function on_load() {\n      root._bokeh_is_loading--;\n      if (root._bokeh_is_loading === 0) {\n        console.debug(\"Bokeh: all BokehJS libraries/stylesheets loaded\");\n        run_callbacks()\n      }\n    }\n\n    function on_error() {\n      console.error(\"failed to load \" + url);\n    }\n\n    for (var i = 0; i < css_urls.length; i++) {\n      var url = css_urls[i];\n      const element = document.createElement(\"link\");\n      element.onload = on_load;\n      element.onerror = on_error;\n      element.rel = \"stylesheet\";\n      element.type = \"text/css\";\n      element.href = url;\n      console.debug(\"Bokeh: injecting link tag for BokehJS stylesheet: \", url);\n      document.body.appendChild(element);\n    }\n\n    const hashes = {\"https://cdn.bokeh.org/bokeh/release/bokeh-2.2.3.min.js\": \"T2yuo9Oe71Cz/I4X9Ac5+gpEa5a8PpJCDlqKYO0CfAuEszu1JrXLl8YugMqYe3sM\", \"https://cdn.bokeh.org/bokeh/release/bokeh-widgets-2.2.3.min.js\": \"98GDGJ0kOMCUMUePhksaQ/GYgB3+NH9h996V88sh3aOiUNX3N+fLXAtry6xctSZ6\", \"https://cdn.bokeh.org/bokeh/release/bokeh-tables-2.2.3.min.js\": \"89bArO+nlbP3sgakeHjCo1JYxYR5wufVgA3IbUvDY+K7w4zyxJqssu7wVnfeKCq8\"};\n\n    for (var i = 0; i < js_urls.length; i++) {\n      var url = js_urls[i];\n      var element = document.createElement('script');\n      element.onload = on_load;\n      element.onerror = on_error;\n      element.async = false;\n      element.src = url;\n      if (url in hashes) {\n        element.crossOrigin = \"anonymous\";\n        element.integrity = \"sha384-\" + hashes[url];\n      }\n      console.debug(\"Bokeh: injecting script tag for BokehJS library: \", url);\n      document.head.appendChild(element);\n    }\n  };\n\n  function inject_raw_css(css) {\n    const element = document.createElement(\"style\");\n    element.appendChild(document.createTextNode(css));\n    document.body.appendChild(element);\n  }\n\n  \n  var js_urls = [\"https://cdn.bokeh.org/bokeh/release/bokeh-2.2.3.min.js\", \"https://cdn.bokeh.org/bokeh/release/bokeh-widgets-2.2.3.min.js\", \"https://cdn.bokeh.org/bokeh/release/bokeh-tables-2.2.3.min.js\"];\n  var css_urls = [];\n  \n\n  var inline_js = [\n    function(Bokeh) {\n      Bokeh.set_log_level(\"info\");\n    },\n    function(Bokeh) {\n    \n    \n    }\n  ];\n\n  function run_inline_js() {\n    \n    if (root.Bokeh !== undefined || force === true) {\n      \n    for (var i = 0; i < inline_js.length; i++) {\n      inline_js[i].call(root, root.Bokeh);\n    }\n    if (force === true) {\n        display_loaded();\n      }} else if (Date.now() < root._bokeh_timeout) {\n      setTimeout(run_inline_js, 100);\n    } else if (!root._bokeh_failed_load) {\n      console.log(\"Bokeh: BokehJS failed to load within specified timeout.\");\n      root._bokeh_failed_load = true;\n    } else if (force !== true) {\n      var cell = $(document.getElementById(\"1001\")).parents('.cell').data().cell;\n      cell.output_area.append_execute_result(NB_LOAD_WARNING)\n    }\n\n  }\n\n  if (root._bokeh_is_loading === 0) {\n    console.debug(\"Bokeh: BokehJS loaded, going straight to plotting\");\n    run_inline_js();\n  } else {\n    load_libs(css_urls, js_urls, function() {\n      console.debug(\"Bokeh: BokehJS plotting callback run at\", now());\n      run_inline_js();\n    });\n  }\n}(window));"
     },
     "metadata": {},
     "output_type": "display_data"
    }
   ],
   "source": [
    "import pandas as pd\n",
    "import numpy as np\n",
    "from sklearn.linear_model import LinearRegression\n",
    "from sklearn.svm import SVR\n",
    "from sklearn.metrics import mean_squared_error, mean_absolute_error, r2_score\n",
    "from bokeh.plotting import figure, show\n",
    "from bokeh.io import output_notebook\n",
    "\n",
    "output_notebook()\n",
    "\n",
    "train_data = pd.read_csv(\"train.csv\")\n",
    "ideal_data = pd.read_csv(\"ideal.csv\")\n",
    "test_data = pd.read_csv(\"test.csv\")\n"
   ]
  },
  {
   "cell_type": "code",
   "execution_count": 2,
   "metadata": {},
   "outputs": [
    {
     "name": "stdout",
     "output_type": "stream",
     "text": [
      "        x         y1         y2         y3        y4\n",
      "0   -20.0  39.778572 -40.078590 -20.214268 -0.324914\n",
      "1   -19.9  39.604813 -39.784000 -20.070950 -0.058820\n",
      "2   -19.8  40.099070 -40.018845 -19.906782 -0.451830\n",
      "3   -19.7  40.151100 -39.518402 -19.389118 -0.612044\n",
      "4   -19.6  39.795662 -39.360065 -19.815890 -0.306076\n",
      "..    ...        ...        ...        ...       ...\n",
      "395  19.5 -38.254158  39.661987  19.536741  0.695158\n",
      "396  19.6 -39.106945  39.067880  19.840752  0.638423\n",
      "397  19.7 -38.926495  40.211475  19.516634  0.109105\n",
      "398  19.8 -39.276672  40.038870  19.377943  0.189025\n",
      "399  19.9 -39.724934  40.558865  19.630678  0.513824\n",
      "\n",
      "[400 rows x 5 columns]\n"
     ]
    }
   ],
   "source": [
    "print(train_data)"
   ]
  },
  {
   "cell_type": "code",
   "execution_count": 3,
   "metadata": {},
   "outputs": [
    {
     "name": "stdout",
     "output_type": "stream",
     "text": [
      "        x        y1        y2         y3        y4         y5        y6  \\\n",
      "0   -20.0 -0.912945  0.408082   9.087055  5.408082  -9.087055  0.912945   \n",
      "1   -19.9 -0.867644  0.497186   9.132356  5.497186  -9.132356  0.867644   \n",
      "2   -19.8 -0.813674  0.581322   9.186326  5.581322  -9.186326  0.813674   \n",
      "3   -19.7 -0.751573  0.659649   9.248426  5.659649  -9.248426  0.751573   \n",
      "4   -19.6 -0.681964  0.731386   9.318036  5.731386  -9.318036  0.681964   \n",
      "..    ...       ...       ...        ...       ...        ...       ...   \n",
      "395  19.5  0.605540  0.795815  10.605540  5.795815 -10.605540 -0.605540   \n",
      "396  19.6  0.681964  0.731386  10.681964  5.731386 -10.681964 -0.681964   \n",
      "397  19.7  0.751573  0.659649  10.751574  5.659649 -10.751574 -0.751573   \n",
      "398  19.8  0.813674  0.581322  10.813674  5.581322 -10.813674 -0.813674   \n",
      "399  19.9  0.867644  0.497186  10.867644  5.497186 -10.867644 -0.867644   \n",
      "\n",
      "           y7        y8        y9  ...        y41        y42       y43  \\\n",
      "0   -0.839071 -0.850919  0.816164  ... -40.456474  40.204040  2.995732   \n",
      "1   -0.865213  0.168518  0.994372  ... -40.233820  40.048590  2.990720   \n",
      "2   -0.889191  0.612391  1.162644  ... -40.006836  39.890660  2.985682   \n",
      "3   -0.910947 -0.994669  1.319299  ... -39.775787  39.729824  2.980619   \n",
      "4   -0.930426  0.774356  1.462772  ... -39.540980  39.565693  2.975530   \n",
      "..        ...       ...       ...  ...        ...        ...       ...   \n",
      "395 -0.947580 -0.117020  1.591630  ...  39.302770 -38.602093  2.970414   \n",
      "396 -0.930426  0.774356  1.462772  ...  39.540980 -38.834310  2.975530   \n",
      "397 -0.910947 -0.994669  1.319299  ...  39.775787 -39.070175  2.980619   \n",
      "398 -0.889191  0.612391  1.162644  ...  40.006836 -39.309338  2.985682   \n",
      "399 -0.865213  0.168518  0.994372  ...  40.233820 -39.551407  2.990720   \n",
      "\n",
      "          y44        y45       y46       y47       y48       y49       y50  \n",
      "0   -0.008333  12.995732  5.298317 -5.298317 -0.186278  0.912945  0.396850  \n",
      "1   -0.008340  12.990720  5.293305 -5.293305 -0.215690  0.867644  0.476954  \n",
      "2   -0.008347  12.985682  5.288267 -5.288267 -0.236503  0.813674  0.549129  \n",
      "3   -0.008354  12.980619  5.283204 -5.283204 -0.247887  0.751573  0.612840  \n",
      "4   -0.008361  12.975530  5.278115 -5.278115 -0.249389  0.681964  0.667902  \n",
      "..        ...        ...       ...       ...       ...       ...       ...  \n",
      "395 -0.012422  12.970414  5.273000 -5.273000  0.240949  0.605540  0.714434  \n",
      "396 -0.012438  12.975530  5.278115 -5.278115  0.249389  0.681964  0.667902  \n",
      "397 -0.012453  12.980619  5.283204 -5.283204  0.247887  0.751573  0.612840  \n",
      "398 -0.012469  12.985682  5.288267 -5.288267  0.236503  0.813674  0.549129  \n",
      "399 -0.012484  12.990720  5.293305 -5.293305  0.215690  0.867644  0.476954  \n",
      "\n",
      "[400 rows x 51 columns]\n"
     ]
    }
   ],
   "source": [
    "print(ideal_data)"
   ]
  },
  {
   "cell_type": "code",
   "execution_count": 4,
   "metadata": {},
   "outputs": [
    {
     "name": "stdout",
     "output_type": "stream",
     "text": [
      "       x          y\n",
      "0   17.5  34.161040\n",
      "1    0.3   1.215102\n",
      "2   -8.7 -16.843908\n",
      "3  -19.2 -37.170870\n",
      "4  -11.0 -20.263054\n",
      "..   ...        ...\n",
      "95  -1.9  -4.036904\n",
      "96  12.2  -0.010358\n",
      "97  16.5 -33.964134\n",
      "98   5.3 -10.291622\n",
      "99  17.9  28.078455\n",
      "\n",
      "[100 rows x 2 columns]\n"
     ]
    }
   ],
   "source": [
    "print(test_data)"
   ]
  },
  {
   "cell_type": "code",
   "execution_count": 5,
   "metadata": {},
   "outputs": [
    {
     "name": "stdout",
     "output_type": "stream",
     "text": [
      "        x\n",
      "0   -20.0\n",
      "1   -19.9\n",
      "2   -19.8\n",
      "3   -19.7\n",
      "4   -19.6\n",
      "..    ...\n",
      "395  19.5\n",
      "396  19.6\n",
      "397  19.7\n",
      "398  19.8\n",
      "399  19.9\n",
      "\n",
      "[400 rows x 1 columns]\n",
      "            y1\n",
      "0    39.778572\n",
      "1    39.604813\n",
      "2    40.099070\n",
      "3    40.151100\n",
      "4    39.795662\n",
      "..         ...\n",
      "395 -38.254158\n",
      "396 -39.106945\n",
      "397 -38.926495\n",
      "398 -39.276672\n",
      "399 -39.724934\n",
      "\n",
      "[400 rows x 1 columns]\n"
     ]
    }
   ],
   "source": [
    "train_x = train_data[['x']]\n",
    "train_y = train_data[['y1']]\n",
    "\n",
    "print(train_x)\n",
    "print(train_y)"
   ]
  },
  {
   "cell_type": "markdown",
   "metadata": {},
   "source": [
    "<h2>Training a Linear Regression model</h2>"
   ]
  },
  {
   "cell_type": "code",
   "execution_count": 6,
   "metadata": {},
   "outputs": [
    {
     "data": {
      "text/plain": [
       "LinearRegression()"
      ]
     },
     "execution_count": 6,
     "metadata": {},
     "output_type": "execute_result"
    }
   ],
   "source": [
    "linear_reg = LinearRegression()\n",
    "linear_reg.fit(train_x, train_y)"
   ]
  },
  {
   "cell_type": "markdown",
   "metadata": {},
   "source": [
    "<h2>Training an SVR model</h2>"
   ]
  },
  {
   "cell_type": "code",
   "execution_count": 7,
   "metadata": {},
   "outputs": [
    {
     "data": {
      "text/plain": [
       "SVR()"
      ]
     },
     "execution_count": 7,
     "metadata": {},
     "output_type": "execute_result"
    }
   ],
   "source": [
    "svr_reg = SVR()\n",
    "svr_reg.fit(train_x, train_y.values.ravel())"
   ]
  },
  {
   "cell_type": "code",
   "execution_count": 8,
   "metadata": {},
   "outputs": [],
   "source": [
    "# Using the mean squared error (MSE), mean absolute error (MAE), and R2 score to evaluate the models.\n",
    "train_y_pred_linear = linear_reg.predict(train_x)\n",
    "train_y_pred_svr = svr_reg.predict(train_x)\n",
    "\n",
    "linear_mse = mean_squared_error(train_y, train_y_pred_linear)\n",
    "svr_mse = mean_squared_error(train_y, train_y_pred_svr)\n",
    "\n",
    "linear_mae = mean_absolute_error(train_y, train_y_pred_linear)\n",
    "svr_mae = mean_absolute_error(train_y, train_y_pred_svr)\n",
    "\n",
    "linear_r2 = r2_score(train_y, train_y_pred_linear)\n",
    "svr_r2 = r2_score(train_y, train_y_pred_svr)"
   ]
  },
  {
   "cell_type": "markdown",
   "metadata": {},
   "source": [
    "<h2>Model Scores</h2>"
   ]
  },
  {
   "cell_type": "code",
   "execution_count": 9,
   "metadata": {},
   "outputs": [
    {
     "name": "stdout",
     "output_type": "stream",
     "text": [
      "Linear Regression:\n",
      "MSE: 0.21779068106461075\n",
      "MAE: 0.3919221011578293\n",
      "R2 Score: 0.9995909476429877\n",
      "\n",
      "SVR:\n",
      "MSE: 3.455249978114705\n",
      "MAE: 1.0449812966643006\n",
      "R2 Score: 0.993510382810203\n"
     ]
    }
   ],
   "source": [
    "# Printing the models' MSE, MAE, and R2 scores.\n",
    "print(\"Linear Regression:\")\n",
    "print(\"MSE:\", linear_mse)\n",
    "print(\"MAE:\", linear_mae)\n",
    "print(\"R2 Score:\", linear_r2)\n",
    "\n",
    "print(\"\\nSVR:\")\n",
    "print(\"MSE:\", svr_mse)\n",
    "print(\"MAE:\", svr_mae)\n",
    "print(\"R2 Score:\", svr_r2)"
   ]
  },
  {
   "cell_type": "markdown",
   "metadata": {},
   "source": [
    "<h2>Visualizing the Linear Regression</h2>"
   ]
  },
  {
   "cell_type": "code",
   "execution_count": 10,
   "metadata": {},
   "outputs": [
    {
     "data": {
      "text/html": [
       "\n",
       "\n",
       "\n",
       "\n",
       "\n",
       "\n",
       "  <div class=\"bk-root\" id=\"9b24bc8f-79dc-4b00-833b-afb84d6f4ad7\" data-root-id=\"1002\"></div>\n"
      ]
     },
     "metadata": {},
     "output_type": "display_data"
    },
    {
     "data": {
      "application/javascript": [
       "(function(root) {\n",
       "  function embed_document(root) {\n",
       "    \n",
       "  var docs_json = {\"fd292d88-0c61-4c39-87c0-615bdf740955\":{\"roots\":{\"references\":[{\"attributes\":{\"below\":[{\"id\":\"1013\"}],\"center\":[{\"id\":\"1016\"},{\"id\":\"1020\"},{\"id\":\"1048\"}],\"left\":[{\"id\":\"1017\"}],\"renderers\":[{\"id\":\"1038\"},{\"id\":\"1053\"}],\"title\":{\"id\":\"1003\"},\"toolbar\":{\"id\":\"1028\"},\"x_range\":{\"id\":\"1005\"},\"x_scale\":{\"id\":\"1009\"},\"y_range\":{\"id\":\"1007\"},\"y_scale\":{\"id\":\"1011\"}},\"id\":\"1002\",\"subtype\":\"Figure\",\"type\":\"Plot\"},{\"attributes\":{\"data_source\":{\"id\":\"1050\"},\"glyph\":{\"id\":\"1051\"},\"hover_glyph\":null,\"muted_glyph\":null,\"nonselection_glyph\":{\"id\":\"1052\"},\"selection_glyph\":null,\"view\":{\"id\":\"1054\"}},\"id\":\"1053\",\"type\":\"GlyphRenderer\"},{\"attributes\":{},\"id\":\"1062\",\"type\":\"UnionRenderers\"},{\"attributes\":{},\"id\":\"1042\",\"type\":\"BasicTickFormatter\"},{\"attributes\":{},\"id\":\"1025\",\"type\":\"ResetTool\"},{\"attributes\":{},\"id\":\"1063\",\"type\":\"Selection\"},{\"attributes\":{\"line_color\":\"red\",\"x\":{\"field\":\"x\"},\"y\":{\"field\":\"y\"}},\"id\":\"1051\",\"type\":\"Line\"},{\"attributes\":{\"source\":{\"id\":\"1035\"}},\"id\":\"1039\",\"type\":\"CDSView\"},{\"attributes\":{},\"id\":\"1044\",\"type\":\"BasicTickFormatter\"},{\"attributes\":{\"bottom_units\":\"screen\",\"fill_alpha\":0.5,\"fill_color\":\"lightgrey\",\"left_units\":\"screen\",\"level\":\"overlay\",\"line_alpha\":1.0,\"line_color\":\"black\",\"line_dash\":[4,4],\"line_width\":2,\"right_units\":\"screen\",\"top_units\":\"screen\"},\"id\":\"1027\",\"type\":\"BoxAnnotation\"},{\"attributes\":{\"fill_color\":{\"value\":\"red\"},\"line_color\":{\"value\":\"red\"},\"x\":{\"field\":\"x\"},\"y\":{\"field\":\"y\"}},\"id\":\"1036\",\"type\":\"Scatter\"},{\"attributes\":{\"fill_alpha\":{\"value\":0.1},\"fill_color\":{\"value\":\"red\"},\"line_alpha\":{\"value\":0.1},\"line_color\":{\"value\":\"red\"},\"x\":{\"field\":\"x\"},\"y\":{\"field\":\"y\"}},\"id\":\"1037\",\"type\":\"Scatter\"},{\"attributes\":{\"axis\":{\"id\":\"1017\"},\"dimension\":1,\"ticker\":null},\"id\":\"1020\",\"type\":\"Grid\"},{\"attributes\":{\"data\":{\"x\":{\"__ndarray__\":\"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\",\"dtype\":\"float64\",\"order\":\"little\",\"shape\":[400]},\"y\":{\"__ndarray__\":\"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\",\"dtype\":\"float64\",\"order\":\"little\",\"shape\":[400]}},\"selected\":{\"id\":\"1046\"},\"selection_policy\":{\"id\":\"1045\"}},\"id\":\"1035\",\"type\":\"ColumnDataSource\"},{\"attributes\":{\"label\":{\"value\":\"Linear Regression\"},\"renderers\":[{\"id\":\"1053\"}]},\"id\":\"1065\",\"type\":\"LegendItem\"},{\"attributes\":{\"data\":{\"x\":{\"__ndarray__\":\"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\",\"dtype\":\"float64\",\"order\":\"little\",\"shape\":[400]},\"y\":{\"__ndarray__\":\"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\",\"dtype\":\"float64\",\"order\":\"little\",\"shape\":[400]}},\"selected\":{\"id\":\"1063\"},\"selection_policy\":{\"id\":\"1062\"}},\"id\":\"1050\",\"type\":\"ColumnDataSource\"},{\"attributes\":{},\"id\":\"1007\",\"type\":\"DataRange1d\"},{\"attributes\":{\"items\":[{\"id\":\"1049\"},{\"id\":\"1065\"}]},\"id\":\"1048\",\"type\":\"Legend\"},{\"attributes\":{\"data_source\":{\"id\":\"1035\"},\"glyph\":{\"id\":\"1036\"},\"hover_glyph\":null,\"muted_glyph\":null,\"nonselection_glyph\":{\"id\":\"1037\"},\"selection_glyph\":null,\"view\":{\"id\":\"1039\"}},\"id\":\"1038\",\"type\":\"GlyphRenderer\"},{\"attributes\":{\"text\":\"Linear Regression\"},\"id\":\"1003\",\"type\":\"Title\"},{\"attributes\":{},\"id\":\"1045\",\"type\":\"UnionRenderers\"},{\"attributes\":{},\"id\":\"1005\",\"type\":\"DataRange1d\"},{\"attributes\":{},\"id\":\"1011\",\"type\":\"LinearScale\"},{\"attributes\":{},\"id\":\"1046\",\"type\":\"Selection\"},{\"attributes\":{},\"id\":\"1026\",\"type\":\"HelpTool\"},{\"attributes\":{},\"id\":\"1024\",\"type\":\"SaveTool\"},{\"attributes\":{},\"id\":\"1014\",\"type\":\"BasicTicker\"},{\"attributes\":{},\"id\":\"1009\",\"type\":\"LinearScale\"},{\"attributes\":{\"axis_label\":\"x\",\"formatter\":{\"id\":\"1044\"},\"ticker\":{\"id\":\"1014\"}},\"id\":\"1013\",\"type\":\"LinearAxis\"},{\"attributes\":{},\"id\":\"1018\",\"type\":\"BasicTicker\"},{\"attributes\":{},\"id\":\"1021\",\"type\":\"PanTool\"},{\"attributes\":{\"line_alpha\":0.1,\"line_color\":\"red\",\"x\":{\"field\":\"x\"},\"y\":{\"field\":\"y\"}},\"id\":\"1052\",\"type\":\"Line\"},{\"attributes\":{\"axis\":{\"id\":\"1013\"},\"ticker\":null},\"id\":\"1016\",\"type\":\"Grid\"},{\"attributes\":{\"active_drag\":\"auto\",\"active_inspect\":\"auto\",\"active_multi\":null,\"active_scroll\":\"auto\",\"active_tap\":\"auto\",\"tools\":[{\"id\":\"1021\"},{\"id\":\"1022\"},{\"id\":\"1023\"},{\"id\":\"1024\"},{\"id\":\"1025\"},{\"id\":\"1026\"}]},\"id\":\"1028\",\"type\":\"Toolbar\"},{\"attributes\":{},\"id\":\"1022\",\"type\":\"WheelZoomTool\"},{\"attributes\":{\"source\":{\"id\":\"1050\"}},\"id\":\"1054\",\"type\":\"CDSView\"},{\"attributes\":{\"axis_label\":\"y\",\"formatter\":{\"id\":\"1042\"},\"ticker\":{\"id\":\"1018\"}},\"id\":\"1017\",\"type\":\"LinearAxis\"},{\"attributes\":{\"overlay\":{\"id\":\"1027\"}},\"id\":\"1023\",\"type\":\"BoxZoomTool\"},{\"attributes\":{\"label\":{\"value\":\"Actual\"},\"renderers\":[{\"id\":\"1038\"}]},\"id\":\"1049\",\"type\":\"LegendItem\"}],\"root_ids\":[\"1002\"]},\"title\":\"Bokeh Application\",\"version\":\"2.2.3\"}};\n",
       "  var render_items = [{\"docid\":\"fd292d88-0c61-4c39-87c0-615bdf740955\",\"root_ids\":[\"1002\"],\"roots\":{\"1002\":\"9b24bc8f-79dc-4b00-833b-afb84d6f4ad7\"}}];\n",
       "  root.Bokeh.embed.embed_items_notebook(docs_json, render_items);\n",
       "\n",
       "  }\n",
       "  if (root.Bokeh !== undefined) {\n",
       "    embed_document(root);\n",
       "  } else {\n",
       "    var attempts = 0;\n",
       "    var timer = setInterval(function(root) {\n",
       "      if (root.Bokeh !== undefined) {\n",
       "        clearInterval(timer);\n",
       "        embed_document(root);\n",
       "      } else {\n",
       "        attempts++;\n",
       "        if (attempts > 100) {\n",
       "          clearInterval(timer);\n",
       "          console.log(\"Bokeh: ERROR: Unable to run BokehJS code because BokehJS library is missing\");\n",
       "        }\n",
       "      }\n",
       "    }, 10, root)\n",
       "  }\n",
       "})(window);"
      ],
      "application/vnd.bokehjs_exec.v0+json": ""
     },
     "metadata": {
      "application/vnd.bokehjs_exec.v0+json": {
       "id": "1002"
      }
     },
     "output_type": "display_data"
    }
   ],
   "source": [
    "linear_plot = figure(title='Linear Regression', x_axis_label='x', y_axis_label='y')\n",
    "linear_plot.scatter(train_x['x'], train_y['y1'], color='red', legend_label='Actual')\n",
    "linear_plot.line(train_x['x'], train_y_pred_linear.flatten(), color='red', legend_label='Linear Regression')\n",
    "show(linear_plot)\n"
   ]
  },
  {
   "cell_type": "markdown",
   "metadata": {},
   "source": [
    "<h2>Visualizing the SVR</h2>"
   ]
  },
  {
   "cell_type": "code",
   "execution_count": 11,
   "metadata": {},
   "outputs": [
    {
     "data": {
      "text/html": [
       "\n",
       "\n",
       "\n",
       "\n",
       "\n",
       "\n",
       "  <div class=\"bk-root\" id=\"5db43f8a-4fe4-4f95-8cbc-c70a3f62b0c6\" data-root-id=\"1126\"></div>\n"
      ]
     },
     "metadata": {},
     "output_type": "display_data"
    },
    {
     "data": {
      "application/javascript": [
       "(function(root) {\n",
       "  function embed_document(root) {\n",
       "    \n",
       "  var docs_json = {\"9d15680c-c146-4879-ad18-e6315fc440a2\":{\"roots\":{\"references\":[{\"attributes\":{\"below\":[{\"id\":\"1137\"}],\"center\":[{\"id\":\"1140\"},{\"id\":\"1144\"},{\"id\":\"1172\"}],\"left\":[{\"id\":\"1141\"}],\"renderers\":[{\"id\":\"1162\"},{\"id\":\"1177\"}],\"title\":{\"id\":\"1127\"},\"toolbar\":{\"id\":\"1152\"},\"x_range\":{\"id\":\"1129\"},\"x_scale\":{\"id\":\"1133\"},\"y_range\":{\"id\":\"1131\"},\"y_scale\":{\"id\":\"1135\"}},\"id\":\"1126\",\"subtype\":\"Figure\",\"type\":\"Plot\"},{\"attributes\":{},\"id\":\"1166\",\"type\":\"BasicTickFormatter\"},{\"attributes\":{\"bottom_units\":\"screen\",\"fill_alpha\":0.5,\"fill_color\":\"lightgrey\",\"left_units\":\"screen\",\"level\":\"overlay\",\"line_alpha\":1.0,\"line_color\":\"black\",\"line_dash\":[4,4],\"line_width\":2,\"right_units\":\"screen\",\"top_units\":\"screen\"},\"id\":\"1151\",\"type\":\"BoxAnnotation\"},{\"attributes\":{},\"id\":\"1135\",\"type\":\"LinearScale\"},{\"attributes\":{},\"id\":\"1146\",\"type\":\"WheelZoomTool\"},{\"attributes\":{\"data_source\":{\"id\":\"1174\"},\"glyph\":{\"id\":\"1175\"},\"hover_glyph\":null,\"muted_glyph\":null,\"nonselection_glyph\":{\"id\":\"1176\"},\"selection_glyph\":null,\"view\":{\"id\":\"1178\"}},\"id\":\"1177\",\"type\":\"GlyphRenderer\"},{\"attributes\":{},\"id\":\"1129\",\"type\":\"DataRange1d\"},{\"attributes\":{},\"id\":\"1169\",\"type\":\"UnionRenderers\"},{\"attributes\":{\"text\":\"SVR\"},\"id\":\"1127\",\"type\":\"Title\"},{\"attributes\":{},\"id\":\"1186\",\"type\":\"UnionRenderers\"},{\"attributes\":{},\"id\":\"1133\",\"type\":\"LinearScale\"},{\"attributes\":{},\"id\":\"1187\",\"type\":\"Selection\"},{\"attributes\":{\"axis\":{\"id\":\"1137\"},\"ticker\":null},\"id\":\"1140\",\"type\":\"Grid\"},{\"attributes\":{},\"id\":\"1170\",\"type\":\"Selection\"},{\"attributes\":{\"axis_label\":\"x\",\"formatter\":{\"id\":\"1168\"},\"ticker\":{\"id\":\"1138\"}},\"id\":\"1137\",\"type\":\"LinearAxis\"},{\"attributes\":{\"axis_label\":\"y\",\"formatter\":{\"id\":\"1166\"},\"ticker\":{\"id\":\"1142\"}},\"id\":\"1141\",\"type\":\"LinearAxis\"},{\"attributes\":{\"axis\":{\"id\":\"1141\"},\"dimension\":1,\"ticker\":null},\"id\":\"1144\",\"type\":\"Grid\"},{\"attributes\":{\"active_drag\":\"auto\",\"active_inspect\":\"auto\",\"active_multi\":null,\"active_scroll\":\"auto\",\"active_tap\":\"auto\",\"tools\":[{\"id\":\"1145\"},{\"id\":\"1146\"},{\"id\":\"1147\"},{\"id\":\"1148\"},{\"id\":\"1149\"},{\"id\":\"1150\"}]},\"id\":\"1152\",\"type\":\"Toolbar\"},{\"attributes\":{\"data_source\":{\"id\":\"1159\"},\"glyph\":{\"id\":\"1160\"},\"hover_glyph\":null,\"muted_glyph\":null,\"nonselection_glyph\":{\"id\":\"1161\"},\"selection_glyph\":null,\"view\":{\"id\":\"1163\"}},\"id\":\"1162\",\"type\":\"GlyphRenderer\"},{\"attributes\":{},\"id\":\"1150\",\"type\":\"HelpTool\"},{\"attributes\":{},\"id\":\"1145\",\"type\":\"PanTool\"},{\"attributes\":{\"data\":{\"x\":{\"__ndarray__\":\"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\",\"dtype\":\"float64\",\"order\":\"little\",\"shape\":[400]},\"y\":{\"__ndarray__\":\"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\",\"dtype\":\"float64\",\"order\":\"little\",\"shape\":[400]}},\"selected\":{\"id\":\"1170\"},\"selection_policy\":{\"id\":\"1169\"}},\"id\":\"1159\",\"type\":\"ColumnDataSource\"},{\"attributes\":{},\"id\":\"1142\",\"type\":\"BasicTicker\"},{\"attributes\":{\"overlay\":{\"id\":\"1151\"}},\"id\":\"1147\",\"type\":\"BoxZoomTool\"},{\"attributes\":{\"source\":{\"id\":\"1174\"}},\"id\":\"1178\",\"type\":\"CDSView\"},{\"attributes\":{},\"id\":\"1138\",\"type\":\"BasicTicker\"},{\"attributes\":{},\"id\":\"1148\",\"type\":\"SaveTool\"},{\"attributes\":{\"fill_color\":{\"value\":\"red\"},\"line_color\":{\"value\":\"red\"},\"x\":{\"field\":\"x\"},\"y\":{\"field\":\"y\"}},\"id\":\"1160\",\"type\":\"Scatter\"},{\"attributes\":{\"fill_alpha\":{\"value\":0.1},\"fill_color\":{\"value\":\"red\"},\"line_alpha\":{\"value\":0.1},\"line_color\":{\"value\":\"red\"},\"x\":{\"field\":\"x\"},\"y\":{\"field\":\"y\"}},\"id\":\"1161\",\"type\":\"Scatter\"},{\"attributes\":{},\"id\":\"1149\",\"type\":\"ResetTool\"},{\"attributes\":{\"line_alpha\":0.1,\"line_color\":\"green\",\"x\":{\"field\":\"x\"},\"y\":{\"field\":\"y\"}},\"id\":\"1176\",\"type\":\"Line\"},{\"attributes\":{},\"id\":\"1168\",\"type\":\"BasicTickFormatter\"},{\"attributes\":{},\"id\":\"1131\",\"type\":\"DataRange1d\"},{\"attributes\":{\"label\":{\"value\":\"Actual\"},\"renderers\":[{\"id\":\"1162\"}]},\"id\":\"1173\",\"type\":\"LegendItem\"},{\"attributes\":{\"source\":{\"id\":\"1159\"}},\"id\":\"1163\",\"type\":\"CDSView\"},{\"attributes\":{\"items\":[{\"id\":\"1173\"},{\"id\":\"1189\"}]},\"id\":\"1172\",\"type\":\"Legend\"},{\"attributes\":{\"data\":{\"x\":{\"__ndarray__\":\"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\",\"dtype\":\"float64\",\"order\":\"little\",\"shape\":[400]},\"y\":{\"__ndarray__\":\"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\",\"dtype\":\"float64\",\"order\":\"little\",\"shape\":[400]}},\"selected\":{\"id\":\"1187\"},\"selection_policy\":{\"id\":\"1186\"}},\"id\":\"1174\",\"type\":\"ColumnDataSource\"},{\"attributes\":{\"line_color\":\"green\",\"x\":{\"field\":\"x\"},\"y\":{\"field\":\"y\"}},\"id\":\"1175\",\"type\":\"Line\"},{\"attributes\":{\"label\":{\"value\":\"SVR\"},\"renderers\":[{\"id\":\"1177\"}]},\"id\":\"1189\",\"type\":\"LegendItem\"}],\"root_ids\":[\"1126\"]},\"title\":\"Bokeh Application\",\"version\":\"2.2.3\"}};\n",
       "  var render_items = [{\"docid\":\"9d15680c-c146-4879-ad18-e6315fc440a2\",\"root_ids\":[\"1126\"],\"roots\":{\"1126\":\"5db43f8a-4fe4-4f95-8cbc-c70a3f62b0c6\"}}];\n",
       "  root.Bokeh.embed.embed_items_notebook(docs_json, render_items);\n",
       "\n",
       "  }\n",
       "  if (root.Bokeh !== undefined) {\n",
       "    embed_document(root);\n",
       "  } else {\n",
       "    var attempts = 0;\n",
       "    var timer = setInterval(function(root) {\n",
       "      if (root.Bokeh !== undefined) {\n",
       "        clearInterval(timer);\n",
       "        embed_document(root);\n",
       "      } else {\n",
       "        attempts++;\n",
       "        if (attempts > 100) {\n",
       "          clearInterval(timer);\n",
       "          console.log(\"Bokeh: ERROR: Unable to run BokehJS code because BokehJS library is missing\");\n",
       "        }\n",
       "      }\n",
       "    }, 10, root)\n",
       "  }\n",
       "})(window);"
      ],
      "application/vnd.bokehjs_exec.v0+json": ""
     },
     "metadata": {
      "application/vnd.bokehjs_exec.v0+json": {
       "id": "1126"
      }
     },
     "output_type": "display_data"
    }
   ],
   "source": [
    "svr_plot = figure(title='SVR', x_axis_label='x', y_axis_label='y')\n",
    "svr_plot.scatter(train_x['x'], train_y['y1'], color='red', legend_label='Actual')\n",
    "svr_plot.line(train_x['x'], train_y_pred_svr.flatten(), color='green', legend_label='SVR')\n",
    "show(svr_plot)"
   ]
  },
  {
   "cell_type": "code",
   "execution_count": null,
   "metadata": {},
   "outputs": [],
   "source": []
  },
  {
   "cell_type": "code",
   "execution_count": null,
   "metadata": {},
   "outputs": [],
   "source": []
  },
  {
   "cell_type": "code",
   "execution_count": null,
   "metadata": {},
   "outputs": [],
   "source": []
  },
  {
   "cell_type": "code",
   "execution_count": null,
   "metadata": {},
   "outputs": [],
   "source": []
  },
  {
   "cell_type": "code",
   "execution_count": null,
   "metadata": {},
   "outputs": [],
   "source": []
  },
  {
   "cell_type": "code",
   "execution_count": null,
   "metadata": {},
   "outputs": [],
   "source": []
  },
  {
   "cell_type": "code",
   "execution_count": null,
   "metadata": {},
   "outputs": [],
   "source": []
  }
 ],
 "metadata": {
  "kernelspec": {
   "display_name": "Python 3",
   "language": "python",
   "name": "python3"
  },
  "language_info": {
   "codemirror_mode": {
    "name": "ipython",
    "version": 3
   },
   "file_extension": ".py",
   "mimetype": "text/x-python",
   "name": "python",
   "nbconvert_exporter": "python",
   "pygments_lexer": "ipython3",
   "version": "3.8.5"
  }
 },
 "nbformat": 4,
 "nbformat_minor": 4
}
